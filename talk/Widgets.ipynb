{
 "cells": [
  {
   "cell_type": "code",
   "execution_count": 1,
   "metadata": {
    "collapsed": true
   },
   "outputs": [],
   "source": [
    "from ipywidgets import interact, Output, HBox"
   ]
  },
  {
   "cell_type": "code",
   "execution_count": 2,
   "metadata": {},
   "outputs": [
    {
     "name": "stdout",
     "output_type": "stream",
     "text": [
      "Product calculator\n"
     ]
    },
    {
     "data": {
      "application/vnd.jupyter.widget": "84d2acda0bcc4c998c7b77b722d7ba18"
     },
     "metadata": {},
     "output_type": "display_data"
    }
   ],
   "source": [
    "left = Output()\n",
    "right = Output()\n",
    "\n",
    "with left:\n",
    "    @interact(x=(0,10))\n",
    "    def f(x):\n",
    "        @interact(y=(0,x))\n",
    "        def g(y):\n",
    "            with right:\n",
    "                print('Product',x*y)\n",
    "\n",
    "print(\"Product calculator\")                \n",
    "HBox([left, right])"
   ]
  },
  {
   "cell_type": "code",
   "execution_count": null,
   "metadata": {},
   "outputs": [
    {
     "data": {
      "application/vnd.jupyter.widget": "003ad8c11fc94902aebd48900cba02f9"
     },
     "metadata": {},
     "output_type": "display_data"
    }
   ],
   "source": []
  },
  {
   "cell_type": "code",
   "execution_count": null,
   "metadata": {},
   "outputs": [],
   "source": []
  }
 ],
 "metadata": {
  "kernelspec": {
   "display_name": "Python 3",
   "language": "python",
   "name": "python3"
  },
  "language_info": {
   "codemirror_mode": {
    "name": "ipython",
    "version": 3
   },
   "file_extension": ".py",
   "mimetype": "text/x-python",
   "name": "python",
   "nbconvert_exporter": "python",
   "pygments_lexer": "ipython3",
   "version": "3.5.1"
  }
 },
 "nbformat": 4,
 "nbformat_minor": 1
}
