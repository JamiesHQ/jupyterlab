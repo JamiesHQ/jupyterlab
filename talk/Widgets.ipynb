{
 "cells": [
  {
   "cell_type": "code",
   "execution_count": 1,
   "metadata": {
    "collapsed": true
   },
   "outputs": [],
   "source": [
    "from ipywidgets import interact, Output, HBox"
   ]
  },
  {
   "cell_type": "code",
   "execution_count": 2,
   "metadata": {},
   "outputs": [
    {
     "data": {
      "application/vnd.jupyter.widget": "fb90cb64cc084f51a1c4c1ba400d42bc"
     },
     "metadata": {},
     "output_type": "display_data"
    }
   ],
   "source": [
    "left = Output()\n",
    "right = Output()\n",
    "\n",
    "with left:\n",
    "    @interact(x=(0,10))\n",
    "    def f(x):\n",
    "        print(x)\n",
    "        @interact(y=(0,x))\n",
    "        def g(y):\n",
    "            print(y)\n",
    "            with right:\n",
    "                print(x*y)\n",
    "HBox([left, right])"
   ]
  },
  {
   "cell_type": "code",
   "execution_count": 1,
   "metadata": {},
   "outputs": [
    {
     "data": {
      "application/vnd.jupyter.widget": "5672e8dade934e5c97d20caf297b30e5"
     },
     "metadata": {},
     "output_type": "display_data"
    }
   ],
   "source": [
    "from ipywidgets import Play, IntSlider, jslink, VBox\n",
    "p = Play()\n",
    "s = IntSlider()\n",
    "jslink((p, 'value'), (s, 'value'))\n",
    "VBox([s, p])"
   ]
  },
  {
   "cell_type": "code",
   "execution_count": null,
   "metadata": {},
   "outputs": [],
   "source": []
  }
 ],
 "metadata": {
  "kernelspec": {
   "display_name": "Python 3",
   "language": "python",
   "name": "python3"
  },
  "language_info": {
   "codemirror_mode": {
    "name": "ipython",
    "version": 3
   },
   "file_extension": ".py",
   "mimetype": "text/x-python",
   "name": "python",
   "nbconvert_exporter": "python",
   "pygments_lexer": "ipython3",
   "version": "3.5.1"
  }
 },
 "nbformat": 4,
 "nbformat_minor": 1
}
