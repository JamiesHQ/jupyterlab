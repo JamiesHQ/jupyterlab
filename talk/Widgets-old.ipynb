{
 "cells": [
  {
   "cell_type": "code",
   "execution_count": 4,
   "metadata": {
    "collapsed": true
   },
   "outputs": [],
   "source": [
    "from ipywidgets import interact, Output, HBox"
   ]
  },
  {
   "cell_type": "code",
   "execution_count": 5,
   "metadata": {
    "collapsed": false
   },
   "outputs": [
    {
     "name": "stdout",
     "output_type": "stream",
     "text": [
      "Product 21\n"
     ]
    }
   ],
   "source": [
    "left = Output()\n",
    "right = Output()\n",
    "\n",
    "with left:\n",
    "    @interact(x=(0,10))\n",
    "    def f(x):\n",
    "        @interact(y=(0,x))\n",
    "        def g(y):\n",
    "            with right:\n",
    "                print('Product',x*y)\n",
    "\n",
    "print(\"Product calculator\")                \n",
    "HBox([left, right])"
   ]
  },
  {
   "cell_type": "code",
   "execution_count": null,
   "metadata": {
    "collapsed": false
   },
   "outputs": [],
   "source": []
  },
  {
   "cell_type": "code",
   "execution_count": null,
   "metadata": {
    "collapsed": true
   },
   "outputs": [],
   "source": []
  }
 ],
 "metadata": {
  "kernelspec": {
   "display_name": "Python 3",
   "language": "python",
   "name": "python3"
  },
  "language_info": {
   "codemirror_mode": {
    "name": "ipython",
    "version": 3
   },
   "file_extension": ".py",
   "mimetype": "text/x-python",
   "name": "python",
   "nbconvert_exporter": "python",
   "pygments_lexer": "ipython3",
   "version": "3.5.1"
  },
  "widgets": {
   "state": {
    "0ca153400cb844b6a67bdcc76fd9c2fa": {
     "views": [
      {
       "cell_index": 1
      }
     ]
    },
    "33e3386c07a74111b27ecc86f2d3daea": {
     "views": [
      {
       "cell_index": 1
      }
     ]
    },
    "3901f63d04e9488fa39fbf17496ecb5c": {
     "views": [
      {
       "cell_index": 1
      }
     ]
    },
    "838695bbd7854c4789bb2bd80708799b": {
     "views": [
      {
       "cell_index": 1
      }
     ]
    },
    "abd9e3e6f9744155a6371b6a915d7fd7": {
     "views": [
      {
       "cell_index": 1
      }
     ]
    },
    "da69ff03264c4d8ca0af53281e1fdd85": {
     "views": [
      {
       "cell_index": 1
      }
     ]
    },
    "de578676ea664f649d79acb7808b8539": {
     "views": [
      {
       "cell_index": 1
      }
     ]
    },
    "ec235b01bc1549b2aa5ffcf245137ad7": {
     "views": [
      {
       "cell_index": 1
      }
     ]
    },
    "f5e697716115441a92f7090079d307b7": {
     "views": [
      {
       "cell_index": 1
      }
     ]
    }
   },
   "version": "2.0.0-dev"
  }
 },
 "nbformat": 4,
 "nbformat_minor": 1
}
